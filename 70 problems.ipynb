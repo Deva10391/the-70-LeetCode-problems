{
 "cells": [
  {
   "cell_type": "code",
   "execution_count": 1,
   "id": "e4d394b5",
   "metadata": {},
   "outputs": [],
   "source": [
    "from typing import List\n",
    "from collections import deque\n",
    "\n",
    "import numpy as np"
   ]
  },
  {
   "cell_type": "markdown",
   "id": "cbf2c52b",
   "metadata": {},
   "source": [
    "*1. contains duplicate*"
   ]
  },
  {
   "cell_type": "code",
   "execution_count": 2,
   "id": "251dc327",
   "metadata": {},
   "outputs": [],
   "source": [
    "class ContainsDuplicate():\n",
    "    def __init__(self, nums: List[int]):\n",
    "        self.nums = nums\n",
    "    \n",
    "    def checking(self) -> bool:\n",
    "        uniqs = set(self.nums)\n",
    "        if len(uniqs) == len(self.nums):\n",
    "            return False\n",
    "        return True"
   ]
  },
  {
   "cell_type": "code",
   "execution_count": 3,
   "id": "5c6103a8",
   "metadata": {},
   "outputs": [
    {
     "name": "stdout",
     "output_type": "stream",
     "text": [
      "True\n",
      "False\n"
     ]
    }
   ],
   "source": [
    "nums = [1,2,3,1]\n",
    "check = ContainsDuplicate(nums)\n",
    "print(check.checking())\n",
    "\n",
    "nums = [1,2,3,4]\n",
    "check = ContainsDuplicate(nums)\n",
    "print(check.checking())"
   ]
  },
  {
   "cell_type": "markdown",
   "id": "54484317",
   "metadata": {},
   "source": [
    "*2. missing num*"
   ]
  },
  {
   "cell_type": "code",
   "execution_count": 4,
   "id": "4e689bca",
   "metadata": {},
   "outputs": [],
   "source": [
    "class MissingNum():\n",
    "    def __init__(self, nums: List[int]):\n",
    "        self.nums = nums\n",
    "        self.length = len(nums) + 1\n",
    "    \n",
    "    def find(self) -> List:\n",
    "        vals = [i for i in range(0, self.length)]\n",
    "        uniqs = set(self.nums)\n",
    "        return [i for i in vals if i not in uniqs][0]"
   ]
  },
  {
   "cell_type": "code",
   "execution_count": 5,
   "id": "9cdfdb00",
   "metadata": {},
   "outputs": [
    {
     "name": "stdout",
     "output_type": "stream",
     "text": [
      "2\n",
      "2\n",
      "3\n"
     ]
    }
   ],
   "source": [
    "nums = [3,0,1]\n",
    "find = MissingNum(nums)\n",
    "print(find.find())\n",
    "\n",
    "nums = [0,1]\n",
    "find = MissingNum(nums)\n",
    "print(find.find())\n",
    "\n",
    "nums = [9,6,4,2,5,7,0,1]\n",
    "find = MissingNum(nums)\n",
    "print(find.find())"
   ]
  },
  {
   "cell_type": "markdown",
   "id": "5cb43771",
   "metadata": {},
   "source": [
    "*3. find all numbers disappeared in an array*"
   ]
  },
  {
   "cell_type": "code",
   "execution_count": 6,
   "id": "2eef1037",
   "metadata": {},
   "outputs": [],
   "source": [
    "class MissingNums():\n",
    "    def __init__(self, nums: List[int]):\n",
    "        self.nums = nums\n",
    "        self.length = len(nums) + 1\n",
    "    \n",
    "    def find_missings(self) -> List:\n",
    "        vals = [i for i in range(1, self.length)]\n",
    "        uniqs = set(self.nums)\n",
    "        return [i for i in vals if i not in uniqs]"
   ]
  },
  {
   "cell_type": "code",
   "execution_count": 7,
   "id": "f3fd30eb",
   "metadata": {},
   "outputs": [
    {
     "name": "stdout",
     "output_type": "stream",
     "text": [
      "[5, 6]\n",
      "[2]\n"
     ]
    }
   ],
   "source": [
    "nums = [4,3,2,7,8,2,3,1]\n",
    "find = MissingNums(nums)\n",
    "print(find.find_missings())\n",
    "\n",
    "nums = [1,1]\n",
    "find = MissingNums(nums)\n",
    "print(find.find_missings())"
   ]
  },
  {
   "cell_type": "markdown",
   "id": "ebb9972b",
   "metadata": {},
   "source": [
    "*4. the two sum problem*"
   ]
  },
  {
   "cell_type": "code",
   "execution_count": 8,
   "id": "9bf70f39",
   "metadata": {},
   "outputs": [],
   "source": [
    "class TwoSum():\n",
    "    def __init__(self, nums: List[int], target):\n",
    "        self.nums = nums\n",
    "        self.target = target\n",
    "    \n",
    "    def find_indices(self) -> List:\n",
    "        max_i = len(self.nums)\n",
    "        for i in range(0, max_i):\n",
    "            for j in range(i, max_i):\n",
    "                if self.nums[j] == self.target - self.nums[i]:\n",
    "                    return [i, j]"
   ]
  },
  {
   "cell_type": "code",
   "execution_count": 9,
   "id": "100265d4",
   "metadata": {},
   "outputs": [
    {
     "name": "stdout",
     "output_type": "stream",
     "text": [
      "[0, 1]\n",
      "[0, 0]\n"
     ]
    }
   ],
   "source": [
    "nums = [2,7,11,15]\n",
    "target = 9\n",
    "get_indices = TwoSum(nums, target)\n",
    "print(get_indices.find_indices())\n",
    "\n",
    "nums = [3,2,4]\n",
    "target = 6\n",
    "get_indices = TwoSum(nums, target)\n",
    "print(get_indices.find_indices())"
   ]
  },
  {
   "cell_type": "markdown",
   "id": "3e129a24",
   "metadata": {},
   "source": [
    "*5. how many nymbers are smaller*"
   ]
  },
  {
   "cell_type": "code",
   "execution_count": 10,
   "id": "abf06beb",
   "metadata": {},
   "outputs": [],
   "source": [
    "class HowManyNumbers():\n",
    "    def __init__(self, nums: List[int]):\n",
    "        self.nums = nums\n",
    "\n",
    "    def how_many_numbers(self) -> List:\n",
    "        uniqs = sorted(set(self.nums))\n",
    "        D = {}\n",
    "        for i in uniqs:\n",
    "            D[i] = sum([j<i for j in self.nums])\n",
    "\n",
    "        res = []\n",
    "        for i in self.nums:\n",
    "            res.append(D[i])\n",
    "\n",
    "        return res"
   ]
  },
  {
   "cell_type": "code",
   "execution_count": 11,
   "id": "5c7993fd",
   "metadata": {},
   "outputs": [
    {
     "name": "stdout",
     "output_type": "stream",
     "text": [
      "[4, 0, 1, 1, 3]\n",
      "[2, 1, 0, 3]\n",
      "[0, 0, 0, 0]\n"
     ]
    }
   ],
   "source": [
    "nums = [8,1,2,2,3]\n",
    "smaller_nums = HowManyNumbers(nums)\n",
    "print(smaller_nums.how_many_numbers())\n",
    "\n",
    "nums = [6,5,4,8]\n",
    "smaller_nums = HowManyNumbers(nums)\n",
    "print(smaller_nums.how_many_numbers())\n",
    "\n",
    "nums = [7,7,7,7]\n",
    "smaller_nums = HowManyNumbers(nums)\n",
    "print(smaller_nums.how_many_numbers())"
   ]
  },
  {
   "cell_type": "markdown",
   "id": "9fd59a8e",
   "metadata": {},
   "source": [
    "*6. minimum time travelling*"
   ]
  },
  {
   "cell_type": "markdown",
   "id": "7c2f3875",
   "metadata": {},
   "source": [
    "*7. spiral matrix*"
   ]
  },
  {
   "cell_type": "code",
   "execution_count": 12,
   "id": "ee7f6bb2",
   "metadata": {},
   "outputs": [],
   "source": [
    "class FormSpiral():\n",
    "    def __init__(self, mat: List[List[int]]):\n",
    "        self.mat = mat\n",
    "\n",
    "    def form_spiral(self) -> List:\n",
    "        mny, mnx = 0, 0\n",
    "        mxy, mxx = self.mat.shape\n",
    "        res = []\n",
    "        while mny < mxy and mnx < mxx:\n",
    "            for x in range(mnx, mxx):\n",
    "                res.append(self.mat[mny,x].item())\n",
    "            mny+=1\n",
    "            for y in range(mny, mxy):\n",
    "                res.append(self.mat[y,mxx-1].item())\n",
    "            mxx-=1\n",
    "            if mny < mxy:\n",
    "                for x in range(mxx-1, mnx-1, -1):\n",
    "                    res.append(self.mat[mxy-1, x].item())\n",
    "                mxy-=1\n",
    "            if mnx < mxx:\n",
    "                for y in range(mxy-1, mny-1, -1):\n",
    "                    res.append(self.mat[y,mnx].item())\n",
    "                mnx+=1\n",
    "        return res"
   ]
  },
  {
   "cell_type": "code",
   "execution_count": 13,
   "id": "8fe880f2",
   "metadata": {},
   "outputs": [
    {
     "name": "stdout",
     "output_type": "stream",
     "text": [
      "[1, 2, 3, 6, 9, 8, 7, 4, 5]\n",
      "[1, 2, 3, 4, 8, 12, 11, 10, 9, 5, 6, 7]\n"
     ]
    }
   ],
   "source": [
    "nums = np.array([[1,2,3],[4,5,6],[7,8,9]])\n",
    "spiral = FormSpiral(nums)\n",
    "print(spiral.form_spiral())\n",
    "\n",
    "nums = np.array([[1,2,3,4],[5,6,7,8],[9,10,11,12]])\n",
    "spiral = FormSpiral(nums)\n",
    "print(spiral.form_spiral())"
   ]
  },
  {
   "cell_type": "markdown",
   "id": "08b44d98",
   "metadata": {},
   "source": [
    "*8. island problem 44:49*"
   ]
  },
  {
   "cell_type": "markdown",
   "id": "ead37815",
   "metadata": {},
   "source": [
    "*9. best time to buy/ sell*"
   ]
  },
  {
   "cell_type": "code",
   "execution_count": 14,
   "id": "afacebfb",
   "metadata": {},
   "outputs": [],
   "source": [
    "class BuySell():\n",
    "    def __init__(self, nums: List[int]):\n",
    "        self.nums = nums\n",
    "    \n",
    "    def max_profit(self) -> int:\n",
    "        min_val = min(self.nums)\n",
    "        min_i = self.nums.index(min_val)\n",
    "        min_i += 1\n",
    "        if min_i == len(self.nums):\n",
    "            return 0\n",
    "        max_val = max(self.nums[min_i:])\n",
    "        return max_val - min_val"
   ]
  },
  {
   "cell_type": "code",
   "execution_count": 15,
   "id": "8067bf61",
   "metadata": {},
   "outputs": [
    {
     "name": "stdout",
     "output_type": "stream",
     "text": [
      "5\n",
      "0\n"
     ]
    }
   ],
   "source": [
    "nums = [7,1,5,3,6,4]\n",
    "best_time = BuySell(nums)\n",
    "print(best_time.max_profit())\n",
    "\n",
    "nums = [7,6,4,3,1]\n",
    "best_time = BuySell(nums)\n",
    "print(best_time.max_profit())"
   ]
  },
  {
   "cell_type": "markdown",
   "id": "3f0bff5a",
   "metadata": {},
   "source": [
    "*10. square of sorted arrays*"
   ]
  },
  {
   "cell_type": "code",
   "execution_count": 16,
   "id": "6a8aef2a",
   "metadata": {},
   "outputs": [],
   "source": [
    "class SquareOfSorted():\n",
    "    def __init__(self, nums: List[int]):\n",
    "        self.nums = nums\n",
    "    \n",
    "    def form(self) -> List:\n",
    "        abso = [abs(i) for i in self.nums]\n",
    "        sorted_vals = sorted(abso)\n",
    "        return [i*i for i in sorted_vals]"
   ]
  },
  {
   "cell_type": "code",
   "execution_count": 17,
   "id": "ab193277",
   "metadata": {},
   "outputs": [
    {
     "name": "stdout",
     "output_type": "stream",
     "text": [
      "[0, 1, 9, 16, 100]\n",
      "[4, 9, 9, 49, 121]\n"
     ]
    }
   ],
   "source": [
    "nums = [-4,-1,0,3,10]\n",
    "square_sorted = SquareOfSorted(nums)\n",
    "print(square_sorted.form())\n",
    "\n",
    "nums = [-7,-3,2,3,11]\n",
    "square_sorted = SquareOfSorted(nums)\n",
    "print(square_sorted.form())"
   ]
  },
  {
   "cell_type": "markdown",
   "id": "9f5f86ff",
   "metadata": {},
   "source": [
    "*11. the three sum problem*"
   ]
  },
  {
   "cell_type": "code",
   "execution_count": 18,
   "id": "c134c6a5",
   "metadata": {},
   "outputs": [],
   "source": [
    "class ThreeSum():\n",
    "    def __init__(self, nums: List[int]):\n",
    "        self.nums = nums\n",
    "    \n",
    "    def find_three(self) -> List:\n",
    "        arr = []\n",
    "        for i in self.nums:\n",
    "            one = self.nums\n",
    "            first = one.pop(one.index(i))\n",
    "            for j in one:\n",
    "                two = one\n",
    "                second = two.pop(two.index(j))\n",
    "                third = -(first + second)\n",
    "                if third in two:\n",
    "                    arr.append(sorted([first, second, third]))\n",
    "        return arr"
   ]
  },
  {
   "cell_type": "code",
   "execution_count": 19,
   "id": "9ff81e64",
   "metadata": {},
   "outputs": [
    {
     "name": "stdout",
     "output_type": "stream",
     "text": [
      "[[-1, 0, 1], [-1, -1, 2]]\n",
      "[]\n",
      "[[0, 0, 0]]\n"
     ]
    }
   ],
   "source": [
    "nums = [-1,0,1,2,-1,-4]\n",
    "find_three = ThreeSum(nums)\n",
    "print(find_three.find_three())\n",
    "\n",
    "nums = [0,1,1]\n",
    "find_three = ThreeSum(nums)\n",
    "print(find_three.find_three())\n",
    "\n",
    "nums = [0,0,0]\n",
    "find_three = ThreeSum(nums)\n",
    "print(find_three.find_three())"
   ]
  },
  {
   "cell_type": "markdown",
   "id": "61addfb1",
   "metadata": {},
   "source": [
    "*12. longest mountain*"
   ]
  },
  {
   "cell_type": "code",
   "execution_count": 20,
   "id": "48ce9fa8",
   "metadata": {},
   "outputs": [],
   "source": [
    "class LongestMountain():\n",
    "    def __init__(self, nums: List[int]):\n",
    "        self.nums = nums\n",
    "    \n",
    "    def find_slope(self, arr: List[int]) -> int:\n",
    "        th = arr[0]\n",
    "        slope = 0\n",
    "        for i in arr[1:]:\n",
    "            if i < th:\n",
    "                th = i\n",
    "                slope += 1\n",
    "            else:\n",
    "                break\n",
    "        return slope\n",
    "    \n",
    "    def finding_mountain(self):\n",
    "        slopes = []\n",
    "        for peak in range(1, len(self.nums) - 1):\n",
    "            slope_r = self.find_slope(self.nums[peak:])\n",
    "            slope_l = self.find_slope(list(reversed(self.nums[:peak+1])))\n",
    "            slopes.append(slope_l + slope_r)\n",
    "            \n",
    "        res = max(slopes)\n",
    "        if res > 1:\n",
    "            return res + 1\n",
    "        return 0"
   ]
  },
  {
   "cell_type": "code",
   "execution_count": 21,
   "id": "ea74526a",
   "metadata": {},
   "outputs": [
    {
     "name": "stdout",
     "output_type": "stream",
     "text": [
      "5\n",
      "0\n"
     ]
    }
   ],
   "source": [
    "nums = [2,1,4,7,3,2,5]\n",
    "find_mountains = LongestMountain(nums)\n",
    "print(find_mountains.finding_mountain())\n",
    "\n",
    "nums = [2,2,2]\n",
    "find_mountains = LongestMountain(nums)\n",
    "print(find_mountains.finding_mountain())"
   ]
  },
  {
   "cell_type": "markdown",
   "id": "c3f82978",
   "metadata": {},
   "source": [
    "*13. contains duplicate 2*"
   ]
  },
  {
   "cell_type": "code",
   "execution_count": 22,
   "id": "3bdfef0f",
   "metadata": {},
   "outputs": [],
   "source": [
    "class ContainsDuplicateSW():\n",
    "    def __init__(self, nums: List[int], k: int):\n",
    "        self.nums = nums\n",
    "        self.k = k\n",
    "    \n",
    "    def finding_dupls_SW(self) -> bool:\n",
    "        length = len(self.nums)\n",
    "        for i in range(0, length):\n",
    "            lower = i\n",
    "            upper = min(i + self.k + 1, length)\n",
    "            sliding_wind = self.nums[lower:upper]\n",
    "            if len(set(sliding_wind)) != len(sliding_wind):\n",
    "                return True\n",
    "\n",
    "        return False"
   ]
  },
  {
   "cell_type": "code",
   "execution_count": 23,
   "id": "fd6d82d1",
   "metadata": {},
   "outputs": [
    {
     "name": "stdout",
     "output_type": "stream",
     "text": [
      "True\n",
      "True\n",
      "False\n"
     ]
    }
   ],
   "source": [
    "nums = [1,2,3,1]\n",
    "k = 3\n",
    "contain_dupls_sw = ContainsDuplicateSW(nums, k)\n",
    "print(contain_dupls_sw.finding_dupls_SW())\n",
    "\n",
    "nums = [1,0,1,1]\n",
    "k = 1\n",
    "contain_dupls_sw = ContainsDuplicateSW(nums, k)\n",
    "print(contain_dupls_sw.finding_dupls_SW())\n",
    "\n",
    "nums = [1,2,3,1,2,3]\n",
    "k = 2\n",
    "contain_dupls_sw = ContainsDuplicateSW(nums, k)\n",
    "print(contain_dupls_sw.finding_dupls_SW())"
   ]
  },
  {
   "cell_type": "markdown",
   "id": "711ea9f0",
   "metadata": {},
   "source": [
    "*14. min abs diff*"
   ]
  },
  {
   "cell_type": "code",
   "execution_count": 24,
   "id": "bacd3f20",
   "metadata": {},
   "outputs": [],
   "source": [
    "class MAD():\n",
    "    def __init__(self, nums: List[int]):\n",
    "        self.nums = nums\n",
    "    \n",
    "    def mean_abs_diff(self) -> List:\n",
    "        diff_dict = {}\n",
    "        for i in self.nums:\n",
    "            for j in self.nums[self.nums.index(i)+1:]:\n",
    "                diff = abs(j - i)\n",
    "                if diff in diff_dict:\n",
    "                    diff_dict[diff].append([i, j])\n",
    "                else:\n",
    "                    diff_dict[diff] = [[i, j]]\n",
    "        \n",
    "        min_diff = min(diff_dict.keys())\n",
    "        return diff_dict[min_diff]"
   ]
  },
  {
   "cell_type": "code",
   "execution_count": 25,
   "id": "7c9daa0e",
   "metadata": {},
   "outputs": [
    {
     "name": "stdout",
     "output_type": "stream",
     "text": [
      "[[4, 3], [2, 1], [2, 3]]\n",
      "[[1, 3]]\n",
      "[[-10, -14], [23, 19], [23, 27]]\n"
     ]
    }
   ],
   "source": [
    "nums = [4,2,1,3]\n",
    "mad = MAD(nums)\n",
    "print(mad.mean_abs_diff())\n",
    "\n",
    "nums = [1,3,6,10,15]\n",
    "mad = MAD(nums)\n",
    "print(mad.mean_abs_diff())\n",
    "\n",
    "nums = [3,8,-10,23,19,-4,-14,27]\n",
    "mad = MAD(nums)\n",
    "print(mad.mean_abs_diff())"
   ]
  },
  {
   "cell_type": "markdown",
   "id": "9020e75d",
   "metadata": {},
   "source": [
    "*15. min len subarray*"
   ]
  },
  {
   "cell_type": "code",
   "execution_count": 26,
   "id": "b2716194",
   "metadata": {},
   "outputs": [],
   "source": [
    "class MinSizeSubArr():\n",
    "    def __init__(self, nums: List[int], target: int):\n",
    "        self.nums = nums\n",
    "        self.target = target\n",
    "    \n",
    "    def min_sub_arr(self) -> int:\n",
    "        added = 0\n",
    "        l = 0\n",
    "        min_len = float('inf')\n",
    "\n",
    "        for r in range(0, len(self.nums)):\n",
    "            added += self.nums[r]\n",
    "            while added >= target:\n",
    "                added -= self.nums[l]\n",
    "                min_len = min(min_len, r-l+1)\n",
    "                l += 1\n",
    "\n",
    "        return min_len if min_len != float('inf') else 0"
   ]
  },
  {
   "cell_type": "code",
   "execution_count": 27,
   "id": "16ec0247",
   "metadata": {},
   "outputs": [
    {
     "name": "stdout",
     "output_type": "stream",
     "text": [
      "2\n",
      "1\n",
      "0\n"
     ]
    }
   ],
   "source": [
    "nums = [2,3,1,2,4,3]\n",
    "target = 7\n",
    "msa = MinSizeSubArr(nums, target)\n",
    "print(msa.min_sub_arr())\n",
    "\n",
    "nums = [1,4,4]\n",
    "target = 1\n",
    "msa = MinSizeSubArr(nums, target)\n",
    "print(msa.min_sub_arr())\n",
    "\n",
    "nums = [1,1,1,1,1,1,1,1]\n",
    "target = 11\n",
    "msa = MinSizeSubArr(nums, target)\n",
    "print(msa.min_sub_arr())"
   ]
  },
  {
   "cell_type": "markdown",
   "id": "f72b142a",
   "metadata": {},
   "source": [
    "*16. single num*"
   ]
  },
  {
   "cell_type": "code",
   "execution_count": 28,
   "id": "73f63701",
   "metadata": {},
   "outputs": [],
   "source": [
    "class SingleNumbers():\n",
    "    def __init__(self, nums: List[int]):\n",
    "        self.nums = nums\n",
    "    \n",
    "    def find_single(self) -> int:\n",
    "        res = 0\n",
    "        for num in self.nums:\n",
    "            res ^= num\n",
    "        return res"
   ]
  },
  {
   "cell_type": "code",
   "execution_count": 29,
   "id": "dd8f4610",
   "metadata": {},
   "outputs": [
    {
     "name": "stdout",
     "output_type": "stream",
     "text": [
      "1\n",
      "4\n",
      "1\n"
     ]
    }
   ],
   "source": [
    "nums = [2,2,1]\n",
    "single_num = SingleNumbers(nums)\n",
    "print(single_num.find_single())\n",
    "\n",
    "nums = [4,1,2,1,2]\n",
    "single_num = SingleNumbers(nums)\n",
    "print(single_num.find_single())\n",
    "\n",
    "nums = [1]\n",
    "single_num = SingleNumbers(nums)\n",
    "print(single_num.find_single())"
   ]
  },
  {
   "cell_type": "markdown",
   "id": "ff93a48c",
   "metadata": {},
   "source": [
    "*17. coin change*"
   ]
  },
  {
   "cell_type": "code",
   "execution_count": 30,
   "id": "3c925ea6",
   "metadata": {},
   "outputs": [],
   "source": [
    "class CoinChange():\n",
    "    def __init__(self, coins: List[int], amt: int):\n",
    "        self.coins = coins\n",
    "        self.amt = amt\n",
    "    \n",
    "    def get_coins(self) -> List[int]:\n",
    "        req = [self.amt + 1] * (self.amt + 1)\n",
    "        req[0] = 0\n",
    "\n",
    "        for a in range(1, self.amt + 1):\n",
    "            for c in self.coins:\n",
    "                if a - c >= 0:\n",
    "                    req[a] = min(req[a], 1 + req[a - c])\n",
    "        \n",
    "        return req[self.amt] if (req[self.amt] != self.amt + 1) else -1"
   ]
  },
  {
   "cell_type": "code",
   "execution_count": 31,
   "id": "1af7c1ca",
   "metadata": {},
   "outputs": [
    {
     "name": "stdout",
     "output_type": "stream",
     "text": [
      "11\n",
      "3\n",
      "0\n"
     ]
    }
   ],
   "source": [
    "coins = [1,2,5]\n",
    "amt = 11\n",
    "changes = CoinChange(nums, amt)\n",
    "print(changes.get_coins())\n",
    "\n",
    "coins = [2]\n",
    "amt = 3\n",
    "changes = CoinChange(nums, amt)\n",
    "print(changes.get_coins())\n",
    "\n",
    "coins = [1]\n",
    "amt = 0\n",
    "changes = CoinChange(nums, amt)\n",
    "print(changes.get_coins())"
   ]
  },
  {
   "cell_type": "markdown",
   "id": "3ac89ea3",
   "metadata": {},
   "source": [
    "*18. climbing stairs*"
   ]
  },
  {
   "cell_type": "code",
   "execution_count": 32,
   "id": "ba433962",
   "metadata": {},
   "outputs": [],
   "source": [
    "class ClimbingStairs():\n",
    "    def __init__(self, stairs: int):\n",
    "        self.stairs = stairs\n",
    "    \n",
    "    def count_ways(self, n=None) -> int:\n",
    "        if n is None:\n",
    "            n = self.stairs\n",
    "        \n",
    "        if n == 0 or n == 1:\n",
    "            return 1\n",
    "        if n == 2:\n",
    "            return 2\n",
    "        \n",
    "        return self.count_ways(n - 1) + self.count_ways(n - 2)"
   ]
  },
  {
   "cell_type": "code",
   "execution_count": 33,
   "id": "1d9d80eb",
   "metadata": {},
   "outputs": [
    {
     "name": "stdout",
     "output_type": "stream",
     "text": [
      "2\n",
      "3\n"
     ]
    }
   ],
   "source": [
    "stair = 2\n",
    "stair_counter = ClimbingStairs(stair)\n",
    "print(stair_counter.count_ways())\n",
    "\n",
    "stair = 3\n",
    "stair_counter = ClimbingStairs(stair)\n",
    "print(stair_counter.count_ways())"
   ]
  },
  {
   "cell_type": "markdown",
   "id": "6af5c111",
   "metadata": {},
   "source": [
    "*19. max subarr*"
   ]
  },
  {
   "cell_type": "code",
   "execution_count": 34,
   "id": "34d72c17",
   "metadata": {},
   "outputs": [],
   "source": [
    "class MaxSubArr():\n",
    "    def __init__(self, nums: List[int]):\n",
    "        self.nums = nums\n",
    "    \n",
    "    def find_maxi(self) -> int:\n",
    "        total = self.nums[0]\n",
    "        curr = self.nums[0]\n",
    "        for i in self.nums[1:]:\n",
    "            curr = max(curr + i, i)\n",
    "            total = max(total, curr)\n",
    "        \n",
    "        return total"
   ]
  },
  {
   "cell_type": "code",
   "execution_count": 35,
   "id": "bc604db1",
   "metadata": {},
   "outputs": [
    {
     "name": "stdout",
     "output_type": "stream",
     "text": [
      "6\n",
      "1\n",
      "23\n"
     ]
    }
   ],
   "source": [
    "nums = [-2,1,-3,4,-1,2,1,-5,4]\n",
    "sub_arr = MaxSubArr(nums)\n",
    "print(sub_arr.find_maxi())\n",
    "\n",
    "nums = [1]\n",
    "sub_arr = MaxSubArr(nums)\n",
    "print(sub_arr.find_maxi())\n",
    "\n",
    "nums = [5,4,-1,7,8]\n",
    "sub_arr = MaxSubArr(nums)\n",
    "print(sub_arr.find_maxi())"
   ]
  },
  {
   "cell_type": "markdown",
   "id": "664cb074",
   "metadata": {},
   "source": [
    "*20. counting bits*"
   ]
  },
  {
   "cell_type": "code",
   "execution_count": 39,
   "id": "def85253",
   "metadata": {},
   "outputs": [],
   "source": [
    "class CountBits():\n",
    "    def __init__(self, val: int):\n",
    "        self.val = val\n",
    "    \n",
    "    def count_ones(self):\n",
    "        bits = [0] * (self.val + 1)\n",
    "        two_iter = 1\n",
    "        for iter in range(1, self.val + 1):\n",
    "            if two_iter * 2 == iter:\n",
    "                two_iter = iter\n",
    "            bits[iter] = 1 + bits[iter - two_iter]\n",
    "        return bits"
   ]
  },
  {
   "cell_type": "code",
   "execution_count": 40,
   "id": "3813c6fc",
   "metadata": {},
   "outputs": [
    {
     "name": "stdout",
     "output_type": "stream",
     "text": [
      "[0, 1, 1]\n",
      "[0, 1, 1, 2, 1, 2]\n"
     ]
    }
   ],
   "source": [
    "num = 2\n",
    "bit = CountBits(num)\n",
    "print(bit.count_ones())\n",
    "\n",
    "num = 5\n",
    "bit = CountBits(num)\n",
    "print(bit.count_ones())"
   ]
  },
  {
   "cell_type": "markdown",
   "id": "8d76586f",
   "metadata": {},
   "source": [
    "*21. range sum query - immutable*"
   ]
  },
  {
   "cell_type": "code",
   "execution_count": 51,
   "id": "95f4a4db",
   "metadata": {},
   "outputs": [],
   "source": [
    "class RangeSumQuery():\n",
    "    def __init__(self, nums: List[int], ini: int, fin: int):\n",
    "        self.nums = nums\n",
    "        self.ini = ini\n",
    "        self.fin = fin\n",
    "        self.cumm = []\n",
    "        self.processing()\n",
    "    \n",
    "    def processing(self):\n",
    "        curr_sum = 0\n",
    "        for i in self.nums:\n",
    "            curr_sum += i\n",
    "            self.cumm.append(curr_sum)\n",
    "\n",
    "    def sum_in_range(self):\n",
    "        if self.ini == 0:\n",
    "            return self.cumm[self.fin]\n",
    "        return self.cumm[self.fin] - self.cumm[self.ini - 1]"
   ]
  },
  {
   "cell_type": "code",
   "execution_count": 52,
   "id": "8aa0f0c6",
   "metadata": {},
   "outputs": [
    {
     "name": "stdout",
     "output_type": "stream",
     "text": [
      "1\n",
      "-1\n",
      "-3\n"
     ]
    }
   ],
   "source": [
    "nums = [-2,0,3,-5,2,-1]\n",
    "\n",
    "ini = 0\n",
    "fin = 2\n",
    "range_sum = RangeSumQuery(nums, ini, fin)\n",
    "print(range_sum.sum_in_range())\n",
    "\n",
    "ini = 2\n",
    "fin = 5\n",
    "range_sum = RangeSumQuery(nums, ini, fin)\n",
    "print(range_sum.sum_in_range())\n",
    "\n",
    "ini = 0\n",
    "fin = 5\n",
    "range_sum = RangeSumQuery(nums, ini, fin)\n",
    "print(range_sum.sum_in_range())"
   ]
  },
  {
   "cell_type": "code",
   "execution_count": null,
   "id": "08737abf",
   "metadata": {},
   "outputs": [],
   "source": []
  }
 ],
 "metadata": {
  "kernelspec": {
   "display_name": "Python 3",
   "language": "python",
   "name": "python3"
  },
  "language_info": {
   "codemirror_mode": {
    "name": "ipython",
    "version": 3
   },
   "file_extension": ".py",
   "mimetype": "text/x-python",
   "name": "python",
   "nbconvert_exporter": "python",
   "pygments_lexer": "ipython3",
   "version": "3.11.9"
  }
 },
 "nbformat": 4,
 "nbformat_minor": 5
}
