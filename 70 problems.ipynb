{
 "cells": [
  {
   "cell_type": "code",
   "execution_count": 65,
   "id": "e4d394b5",
   "metadata": {},
   "outputs": [],
   "source": [
    "from typing import List\n",
    "from collections import deque\n",
    "\n",
    "import numpy as np"
   ]
  },
  {
   "cell_type": "markdown",
   "id": "cbf2c52b",
   "metadata": {},
   "source": [
    "*1. contains duplicate*"
   ]
  },
  {
   "cell_type": "code",
   "execution_count": 66,
   "id": "251dc327",
   "metadata": {},
   "outputs": [],
   "source": [
    "class ContainsDuplicate:\n",
    "    def __init__(self, nums: List[int]):\n",
    "        self.nums = nums\n",
    "    \n",
    "    def checking(self) -> bool:\n",
    "        uniqs = set(self.nums)\n",
    "        if len(uniqs) == len(self.nums):\n",
    "            return False\n",
    "        return True"
   ]
  },
  {
   "cell_type": "code",
   "execution_count": 67,
   "id": "5c6103a8",
   "metadata": {},
   "outputs": [
    {
     "name": "stdout",
     "output_type": "stream",
     "text": [
      "True\n",
      "False\n"
     ]
    }
   ],
   "source": [
    "nums = [1,2,3,1]\n",
    "check = ContainsDuplicate(nums)\n",
    "print(check.checking())\n",
    "\n",
    "nums = [1,2,3,4]\n",
    "check = ContainsDuplicate(nums)\n",
    "print(check.checking())"
   ]
  },
  {
   "cell_type": "markdown",
   "id": "54484317",
   "metadata": {},
   "source": [
    "*2. missing num*"
   ]
  },
  {
   "cell_type": "code",
   "execution_count": 68,
   "id": "4e689bca",
   "metadata": {},
   "outputs": [],
   "source": [
    "class MissingNum:\n",
    "    def __init__(self, nums: List[int]):\n",
    "        self.nums = nums\n",
    "        self.length = len(nums) + 1\n",
    "    \n",
    "    def find(self) -> List:\n",
    "        vals = [i for i in range(0, self.length)]\n",
    "        uniqs = set(self.nums)\n",
    "        return [i for i in vals if i not in uniqs][0]"
   ]
  },
  {
   "cell_type": "code",
   "execution_count": 69,
   "id": "9cdfdb00",
   "metadata": {},
   "outputs": [
    {
     "name": "stdout",
     "output_type": "stream",
     "text": [
      "2\n",
      "2\n",
      "3\n"
     ]
    }
   ],
   "source": [
    "nums = [3,0,1]\n",
    "find = MissingNum(nums)\n",
    "print(find.find())\n",
    "\n",
    "nums = [0,1]\n",
    "find = MissingNum(nums)\n",
    "print(find.find())\n",
    "\n",
    "nums = [9,6,4,2,5,7,0,1]\n",
    "find = MissingNum(nums)\n",
    "print(find.find())"
   ]
  },
  {
   "cell_type": "markdown",
   "id": "5cb43771",
   "metadata": {},
   "source": [
    "*3. find all numbers disappeared in an array*"
   ]
  },
  {
   "cell_type": "code",
   "execution_count": 70,
   "id": "2eef1037",
   "metadata": {},
   "outputs": [],
   "source": [
    "class MissingNums:\n",
    "    def __init__(self, nums: List[int]):\n",
    "        self.nums = nums\n",
    "        self.length = len(nums) + 1\n",
    "    \n",
    "    def find_missings(self) -> List:\n",
    "        vals = [i for i in range(1, self.length)]\n",
    "        uniqs = set(self.nums)\n",
    "        return [i for i in vals if i not in uniqs]"
   ]
  },
  {
   "cell_type": "code",
   "execution_count": 71,
   "id": "f3fd30eb",
   "metadata": {},
   "outputs": [
    {
     "name": "stdout",
     "output_type": "stream",
     "text": [
      "[5, 6]\n",
      "[2]\n"
     ]
    }
   ],
   "source": [
    "nums = [4,3,2,7,8,2,3,1]\n",
    "find = MissingNums(nums)\n",
    "print(find.find_missings())\n",
    "\n",
    "nums = [1,1]\n",
    "find = MissingNums(nums)\n",
    "print(find.find_missings())"
   ]
  },
  {
   "cell_type": "markdown",
   "id": "ebb9972b",
   "metadata": {},
   "source": [
    "*4. the two sum problem*"
   ]
  },
  {
   "cell_type": "code",
   "execution_count": 72,
   "id": "9bf70f39",
   "metadata": {},
   "outputs": [],
   "source": [
    "class TwoSum:\n",
    "    def __init__(self, nums: List[int], target):\n",
    "        self.nums = nums\n",
    "        self.target = target\n",
    "    \n",
    "    def find_indices(self) -> List:\n",
    "        max_i = len(self.nums)\n",
    "        for i in range(0, max_i):\n",
    "            for j in range(i, max_i):\n",
    "                if self.nums[j] == self.target - self.nums[i]:\n",
    "                    return [i, j]"
   ]
  },
  {
   "cell_type": "code",
   "execution_count": 73,
   "id": "100265d4",
   "metadata": {},
   "outputs": [
    {
     "name": "stdout",
     "output_type": "stream",
     "text": [
      "[0, 1]\n",
      "[0, 0]\n"
     ]
    }
   ],
   "source": [
    "nums = [2,7,11,15]\n",
    "target = 9\n",
    "get_indices = TwoSum(nums, target)\n",
    "print(get_indices.find_indices())\n",
    "\n",
    "nums = [3,2,4]\n",
    "target = 6\n",
    "get_indices = TwoSum(nums, target)\n",
    "print(get_indices.find_indices())"
   ]
  },
  {
   "cell_type": "markdown",
   "id": "3e129a24",
   "metadata": {},
   "source": [
    "*5. how many nymbers are smaller*"
   ]
  },
  {
   "cell_type": "code",
   "execution_count": 74,
   "id": "abf06beb",
   "metadata": {},
   "outputs": [],
   "source": [
    "class HowManyNumbers:\n",
    "    def __init__(self, nums: List[int]):\n",
    "        self.nums = nums\n",
    "\n",
    "    def how_many_numbers(self) -> List:\n",
    "        uniqs = sorted(set(self.nums))\n",
    "        D = {}\n",
    "        for i in uniqs:\n",
    "            D[i] = sum([j<i for j in self.nums])\n",
    "\n",
    "        res = []\n",
    "        for i in self.nums:\n",
    "            res.append(D[i])\n",
    "\n",
    "        return res"
   ]
  },
  {
   "cell_type": "code",
   "execution_count": 75,
   "id": "5c7993fd",
   "metadata": {},
   "outputs": [
    {
     "name": "stdout",
     "output_type": "stream",
     "text": [
      "[4, 0, 1, 1, 3]\n",
      "[2, 1, 0, 3]\n",
      "[0, 0, 0, 0]\n"
     ]
    }
   ],
   "source": [
    "nums = [8,1,2,2,3]\n",
    "smaller_nums = HowManyNumbers(nums)\n",
    "print(smaller_nums.how_many_numbers())\n",
    "\n",
    "nums = [6,5,4,8]\n",
    "smaller_nums = HowManyNumbers(nums)\n",
    "print(smaller_nums.how_many_numbers())\n",
    "\n",
    "nums = [7,7,7,7]\n",
    "smaller_nums = HowManyNumbers(nums)\n",
    "print(smaller_nums.how_many_numbers())"
   ]
  },
  {
   "cell_type": "markdown",
   "id": "9fd59a8e",
   "metadata": {},
   "source": [
    "*6. minimum time travelling*"
   ]
  },
  {
   "cell_type": "markdown",
   "id": "7c2f3875",
   "metadata": {},
   "source": [
    "*7. spiral matrix*"
   ]
  },
  {
   "cell_type": "code",
   "execution_count": 76,
   "id": "ee7f6bb2",
   "metadata": {},
   "outputs": [],
   "source": [
    "class FormSpiral:\n",
    "    def __init__(self, mat: List[List[int]]):\n",
    "        self.mat = mat\n",
    "\n",
    "    def form_spiral(self) -> List:\n",
    "        mny, mnx = 0, 0\n",
    "        mxy, mxx = self.mat.shape\n",
    "        res = []\n",
    "        while mny < mxy and mnx < mxx:\n",
    "            for x in range(mnx, mxx):\n",
    "                res.append(self.mat[mny,x].item())\n",
    "            mny+=1\n",
    "            for y in range(mny, mxy):\n",
    "                res.append(self.mat[y,mxx-1].item())\n",
    "            mxx-=1\n",
    "            if mny < mxy:\n",
    "                for x in range(mxx-1, mnx-1, -1):\n",
    "                    res.append(self.mat[mxy-1, x].item())\n",
    "                mxy-=1\n",
    "            if mnx < mxx:\n",
    "                for y in range(mxy-1, mny-1, -1):\n",
    "                    res.append(self.mat[y,mnx].item())\n",
    "                mnx+=1\n",
    "        return res"
   ]
  },
  {
   "cell_type": "code",
   "execution_count": 77,
   "id": "8fe880f2",
   "metadata": {},
   "outputs": [
    {
     "name": "stdout",
     "output_type": "stream",
     "text": [
      "[1, 2, 3, 6, 9, 8, 7, 4, 5]\n",
      "[1, 2, 3, 4, 8, 12, 11, 10, 9, 5, 6, 7]\n"
     ]
    }
   ],
   "source": [
    "nums = np.array([[1,2,3],[4,5,6],[7,8,9]])\n",
    "spiral = FormSpiral(nums)\n",
    "print(spiral.form_spiral())\n",
    "\n",
    "nums = np.array([[1,2,3,4],[5,6,7,8],[9,10,11,12]])\n",
    "spiral = FormSpiral(nums)\n",
    "print(spiral.form_spiral())"
   ]
  },
  {
   "cell_type": "markdown",
   "id": "08b44d98",
   "metadata": {},
   "source": [
    "*8. island problem 44:49*"
   ]
  },
  {
   "cell_type": "markdown",
   "id": "ead37815",
   "metadata": {},
   "source": [
    "*9. best time to buy/ sell*"
   ]
  },
  {
   "cell_type": "code",
   "execution_count": 78,
   "id": "afacebfb",
   "metadata": {},
   "outputs": [],
   "source": [
    "class BuySell:\n",
    "    def __init__(self, nums: List[int]):\n",
    "        self.nums = nums\n",
    "    \n",
    "    def max_profit(self) -> int:\n",
    "        min_val = min(self.nums)\n",
    "        min_i = self.nums.index(min_val)\n",
    "        min_i += 1\n",
    "        if min_i == len(self.nums):\n",
    "            return 0\n",
    "        max_val = max(self.nums[min_i:])\n",
    "        return max_val - min_val"
   ]
  },
  {
   "cell_type": "code",
   "execution_count": 79,
   "id": "8067bf61",
   "metadata": {},
   "outputs": [
    {
     "name": "stdout",
     "output_type": "stream",
     "text": [
      "5\n",
      "0\n"
     ]
    }
   ],
   "source": [
    "nums = [7,1,5,3,6,4]\n",
    "best_time = BuySell(nums)\n",
    "print(best_time.max_profit())\n",
    "\n",
    "nums = [7,6,4,3,1]\n",
    "best_time = BuySell(nums)\n",
    "print(best_time.max_profit())"
   ]
  },
  {
   "cell_type": "markdown",
   "id": "3f0bff5a",
   "metadata": {},
   "source": [
    "*10. square of sorted arrays*"
   ]
  },
  {
   "cell_type": "code",
   "execution_count": 80,
   "id": "6a8aef2a",
   "metadata": {},
   "outputs": [],
   "source": [
    "class SquareOfSorted:\n",
    "    def __init__(self, nums: List[int]):\n",
    "        self.nums = nums\n",
    "    \n",
    "    def form(self) -> List:\n",
    "        abso = [abs(i) for i in self.nums]\n",
    "        sorted_vals = sorted(abso)\n",
    "        return [i*i for i in sorted_vals]"
   ]
  },
  {
   "cell_type": "code",
   "execution_count": 81,
   "id": "ab193277",
   "metadata": {},
   "outputs": [
    {
     "name": "stdout",
     "output_type": "stream",
     "text": [
      "[0, 1, 9, 16, 100]\n",
      "[4, 9, 9, 49, 121]\n"
     ]
    }
   ],
   "source": [
    "nums = [-4,-1,0,3,10]\n",
    "square_sorted = SquareOfSorted(nums)\n",
    "print(square_sorted.form())\n",
    "\n",
    "nums = [-7,-3,2,3,11]\n",
    "square_sorted = SquareOfSorted(nums)\n",
    "print(square_sorted.form())"
   ]
  },
  {
   "cell_type": "markdown",
   "id": "9f5f86ff",
   "metadata": {},
   "source": [
    "*11. the three sum problem*"
   ]
  },
  {
   "cell_type": "code",
   "execution_count": 82,
   "id": "c134c6a5",
   "metadata": {},
   "outputs": [],
   "source": [
    "class ThreeSum:\n",
    "    def __init__(self, nums: List[int]):\n",
    "        self.nums = nums\n",
    "    \n",
    "    def find_three(self) -> List:\n",
    "        arr = []\n",
    "        for i in self.nums:\n",
    "            one = self.nums\n",
    "            first = one.pop(one.index(i))\n",
    "            for j in one:\n",
    "                two = one\n",
    "                second = two.pop(two.index(j))\n",
    "                third = -(first + second)\n",
    "                if third in two:\n",
    "                    arr.append(sorted([first, second, third]))\n",
    "        return arr"
   ]
  },
  {
   "cell_type": "code",
   "execution_count": 83,
   "id": "9ff81e64",
   "metadata": {},
   "outputs": [
    {
     "name": "stdout",
     "output_type": "stream",
     "text": [
      "[[-1, 0, 1], [-1, -1, 2]]\n",
      "[]\n",
      "[[0, 0, 0]]\n"
     ]
    }
   ],
   "source": [
    "nums = [-1,0,1,2,-1,-4]\n",
    "find_three = ThreeSum(nums)\n",
    "print(find_three.find_three())\n",
    "\n",
    "nums = [0,1,1]\n",
    "find_three = ThreeSum(nums)\n",
    "print(find_three.find_three())\n",
    "\n",
    "nums = [0,0,0]\n",
    "find_three = ThreeSum(nums)\n",
    "print(find_three.find_three())"
   ]
  },
  {
   "cell_type": "markdown",
   "id": "61addfb1",
   "metadata": {},
   "source": [
    "*12. longest mountain*"
   ]
  },
  {
   "cell_type": "code",
   "execution_count": 84,
   "id": "48ce9fa8",
   "metadata": {},
   "outputs": [],
   "source": [
    "class LongestMountain:\n",
    "    def __init__(self, nums: List[int]):\n",
    "        self.nums = nums\n",
    "    \n",
    "    def find_slope(self, arr: List[int]) -> int:\n",
    "        th = arr[0]\n",
    "        slope = 0\n",
    "        for i in arr[1:]:\n",
    "            if i < th:\n",
    "                th = i\n",
    "                slope += 1\n",
    "            else:\n",
    "                break\n",
    "        return slope\n",
    "    \n",
    "    def finding_mountain(self):\n",
    "        slopes = []\n",
    "        for peak in range(1, len(self.nums) - 1):\n",
    "            slope_r = self.find_slope(self.nums[peak:])\n",
    "            slope_l = self.find_slope(list(reversed(self.nums[:peak+1])))\n",
    "            slopes.append(slope_l + slope_r)\n",
    "            \n",
    "        res = max(slopes)\n",
    "        if res > 1:\n",
    "            return res + 1\n",
    "        return 0"
   ]
  },
  {
   "cell_type": "code",
   "execution_count": 85,
   "id": "ea74526a",
   "metadata": {},
   "outputs": [
    {
     "name": "stdout",
     "output_type": "stream",
     "text": [
      "5\n",
      "0\n"
     ]
    }
   ],
   "source": [
    "nums = [2,1,4,7,3,2,5]\n",
    "find_mountains = LongestMountain(nums)\n",
    "print(find_mountains.finding_mountain())\n",
    "\n",
    "nums = [2,2,2]\n",
    "find_mountains = LongestMountain(nums)\n",
    "print(find_mountains.finding_mountain())"
   ]
  },
  {
   "cell_type": "markdown",
   "id": "c3f82978",
   "metadata": {},
   "source": [
    "*13. contains duplicate 2*"
   ]
  },
  {
   "cell_type": "code",
   "execution_count": 86,
   "id": "3bdfef0f",
   "metadata": {},
   "outputs": [],
   "source": [
    "class ContainsDuplicateSW:\n",
    "    def __init__(self, nums: List[int], k: int):\n",
    "        self.nums = nums\n",
    "        self.k = k\n",
    "    \n",
    "    def finding_dupls_SW(self) -> bool:\n",
    "        length = len(self.nums)\n",
    "        for i in range(0, length):\n",
    "            lower = i\n",
    "            upper = min(i + self.k + 1, length)\n",
    "            sliding_wind = self.nums[lower:upper]\n",
    "            if len(set(sliding_wind)) != len(sliding_wind):\n",
    "                return True\n",
    "\n",
    "        return False"
   ]
  },
  {
   "cell_type": "code",
   "execution_count": 87,
   "id": "fd6d82d1",
   "metadata": {},
   "outputs": [
    {
     "name": "stdout",
     "output_type": "stream",
     "text": [
      "True\n",
      "True\n",
      "False\n"
     ]
    }
   ],
   "source": [
    "nums = [1,2,3,1]\n",
    "k = 3\n",
    "contain_dupls_sw = ContainsDuplicateSW(nums, k)\n",
    "print(contain_dupls_sw.finding_dupls_SW())\n",
    "\n",
    "nums = [1,0,1,1]\n",
    "k = 1\n",
    "contain_dupls_sw = ContainsDuplicateSW(nums, k)\n",
    "print(contain_dupls_sw.finding_dupls_SW())\n",
    "\n",
    "nums = [1,2,3,1,2,3]\n",
    "k = 2\n",
    "contain_dupls_sw = ContainsDuplicateSW(nums, k)\n",
    "print(contain_dupls_sw.finding_dupls_SW())"
   ]
  },
  {
   "cell_type": "markdown",
   "id": "711ea9f0",
   "metadata": {},
   "source": [
    "*14. min abs diff*"
   ]
  },
  {
   "cell_type": "code",
   "execution_count": 88,
   "id": "bacd3f20",
   "metadata": {},
   "outputs": [],
   "source": [
    "class MAD:\n",
    "    def __init__(self, nums: List[int]):\n",
    "        self.nums = nums\n",
    "    \n",
    "    def mean_abs_diff(self) -> List:\n",
    "        diff_dict = {}\n",
    "        for i in self.nums:\n",
    "            for j in self.nums[self.nums.index(i)+1:]:\n",
    "                diff = abs(j - i)\n",
    "                if diff in diff_dict:\n",
    "                    diff_dict[diff].append([i, j])\n",
    "                else:\n",
    "                    diff_dict[diff] = [[i, j]]\n",
    "        \n",
    "        min_diff = min(diff_dict.keys())\n",
    "        return diff_dict[min_diff]"
   ]
  },
  {
   "cell_type": "code",
   "execution_count": 89,
   "id": "7c9daa0e",
   "metadata": {},
   "outputs": [
    {
     "name": "stdout",
     "output_type": "stream",
     "text": [
      "[[4, 3], [2, 1], [2, 3]]\n",
      "[[1, 3]]\n",
      "[[-10, -14], [23, 19], [23, 27]]\n"
     ]
    }
   ],
   "source": [
    "nums = [4,2,1,3]\n",
    "mad = MAD(nums)\n",
    "print(mad.mean_abs_diff())\n",
    "\n",
    "nums = [1,3,6,10,15]\n",
    "mad = MAD(nums)\n",
    "print(mad.mean_abs_diff())\n",
    "\n",
    "nums = [3,8,-10,23,19,-4,-14,27]\n",
    "mad = MAD(nums)\n",
    "print(mad.mean_abs_diff())"
   ]
  },
  {
   "cell_type": "markdown",
   "id": "9020e75d",
   "metadata": {},
   "source": [
    "*15. min len subarray*"
   ]
  },
  {
   "cell_type": "code",
   "execution_count": 90,
   "id": "b2716194",
   "metadata": {},
   "outputs": [],
   "source": [
    "class MinSizeSubArr:\n",
    "    def __init__(self, nums: List[int], target: int):\n",
    "        self.nums = nums\n",
    "        self.target = target\n",
    "    \n",
    "    def min_sub_arr(self) -> int:\n",
    "        added = 0\n",
    "        l = 0\n",
    "        min_len = float('inf')\n",
    "\n",
    "        for r in range(0, len(self.nums)):\n",
    "            added += self.nums[r]\n",
    "            while added >= target:\n",
    "                added -= self.nums[l]\n",
    "                min_len = min(min_len, r-l+1)\n",
    "                l += 1\n",
    "\n",
    "        return min_len if min_len != float('inf') else 0"
   ]
  },
  {
   "cell_type": "code",
   "execution_count": 91,
   "id": "16ec0247",
   "metadata": {},
   "outputs": [
    {
     "name": "stdout",
     "output_type": "stream",
     "text": [
      "2\n",
      "1\n",
      "0\n"
     ]
    }
   ],
   "source": [
    "nums = [2,3,1,2,4,3]\n",
    "target = 7\n",
    "msa = MinSizeSubArr(nums, target)\n",
    "print(msa.min_sub_arr())\n",
    "\n",
    "nums = [1,4,4]\n",
    "target = 1\n",
    "msa = MinSizeSubArr(nums, target)\n",
    "print(msa.min_sub_arr())\n",
    "\n",
    "nums = [1,1,1,1,1,1,1,1]\n",
    "target = 11\n",
    "msa = MinSizeSubArr(nums, target)\n",
    "print(msa.min_sub_arr())"
   ]
  },
  {
   "cell_type": "markdown",
   "id": "f72b142a",
   "metadata": {},
   "source": [
    "*16. single num*"
   ]
  },
  {
   "cell_type": "code",
   "execution_count": 92,
   "id": "73f63701",
   "metadata": {},
   "outputs": [],
   "source": [
    "class SingleNumbers:\n",
    "    def __init__(self, nums: List[int]):\n",
    "        self.nums = nums\n",
    "    \n",
    "    def find_single(self) -> int:\n",
    "        res = 0\n",
    "        for num in self.nums:\n",
    "            res ^= num\n",
    "        return res"
   ]
  },
  {
   "cell_type": "code",
   "execution_count": 93,
   "id": "dd8f4610",
   "metadata": {},
   "outputs": [
    {
     "name": "stdout",
     "output_type": "stream",
     "text": [
      "1\n",
      "4\n",
      "1\n"
     ]
    }
   ],
   "source": [
    "nums = [2,2,1]\n",
    "single_num = SingleNumbers(nums)\n",
    "print(single_num.find_single())\n",
    "\n",
    "nums = [4,1,2,1,2]\n",
    "single_num = SingleNumbers(nums)\n",
    "print(single_num.find_single())\n",
    "\n",
    "nums = [1]\n",
    "single_num = SingleNumbers(nums)\n",
    "print(single_num.find_single())"
   ]
  },
  {
   "cell_type": "markdown",
   "id": "d2bde5e4",
   "metadata": {},
   "source": [
    "**dynamic programming**"
   ]
  },
  {
   "cell_type": "markdown",
   "id": "ff93a48c",
   "metadata": {},
   "source": [
    "*17. coin change*"
   ]
  },
  {
   "cell_type": "code",
   "execution_count": 94,
   "id": "3c925ea6",
   "metadata": {},
   "outputs": [],
   "source": [
    "class CoinChange:\n",
    "    def __init__(self, coins: List[int], amt: int):\n",
    "        self.coins = coins\n",
    "        self.amt = amt\n",
    "    \n",
    "    def get_coins(self) -> List[int]:\n",
    "        req = [self.amt + 1] * (self.amt + 1)\n",
    "        req[0] = 0\n",
    "\n",
    "        for a in range(1, self.amt + 1):\n",
    "            for c in self.coins:\n",
    "                if a - c >= 0:\n",
    "                    req[a] = min(req[a], 1 + req[a - c])\n",
    "        \n",
    "        return req[self.amt] if (req[self.amt] != self.amt + 1) else -1"
   ]
  },
  {
   "cell_type": "code",
   "execution_count": 95,
   "id": "1af7c1ca",
   "metadata": {},
   "outputs": [
    {
     "name": "stdout",
     "output_type": "stream",
     "text": [
      "11\n",
      "3\n",
      "0\n"
     ]
    }
   ],
   "source": [
    "coins = [1,2,5]\n",
    "amt = 11\n",
    "changes = CoinChange(nums, amt)\n",
    "print(changes.get_coins())\n",
    "\n",
    "coins = [2]\n",
    "amt = 3\n",
    "changes = CoinChange(nums, amt)\n",
    "print(changes.get_coins())\n",
    "\n",
    "coins = [1]\n",
    "amt = 0\n",
    "changes = CoinChange(nums, amt)\n",
    "print(changes.get_coins())"
   ]
  },
  {
   "cell_type": "markdown",
   "id": "3ac89ea3",
   "metadata": {},
   "source": [
    "*18. climbing stairs*"
   ]
  },
  {
   "cell_type": "code",
   "execution_count": 96,
   "id": "ba433962",
   "metadata": {},
   "outputs": [],
   "source": [
    "class ClimbingStairs:\n",
    "    def __init__(self, stairs: int):\n",
    "        self.stairs = stairs\n",
    "    \n",
    "    def count_ways(self, n=None) -> int:\n",
    "        if n is None:\n",
    "            n = self.stairs\n",
    "        \n",
    "        if n == 0 or n == 1:\n",
    "            return 1\n",
    "        if n == 2:\n",
    "            return 2\n",
    "        \n",
    "        return self.count_ways(n - 1) + self.count_ways(n - 2)"
   ]
  },
  {
   "cell_type": "code",
   "execution_count": 97,
   "id": "1d9d80eb",
   "metadata": {},
   "outputs": [
    {
     "name": "stdout",
     "output_type": "stream",
     "text": [
      "2\n",
      "3\n"
     ]
    }
   ],
   "source": [
    "stair = 2\n",
    "stair_counter = ClimbingStairs(stair)\n",
    "print(stair_counter.count_ways())\n",
    "\n",
    "stair = 3\n",
    "stair_counter = ClimbingStairs(stair)\n",
    "print(stair_counter.count_ways())"
   ]
  },
  {
   "cell_type": "markdown",
   "id": "6af5c111",
   "metadata": {},
   "source": [
    "*19. max subarr*"
   ]
  },
  {
   "cell_type": "code",
   "execution_count": 98,
   "id": "34d72c17",
   "metadata": {},
   "outputs": [],
   "source": [
    "class MaxSubArr:\n",
    "    def __init__(self, nums: List[int]):\n",
    "        self.nums = nums\n",
    "    \n",
    "    def find_maxi(self) -> int:\n",
    "        total = self.nums[0]\n",
    "        curr = self.nums[0]\n",
    "        for i in self.nums[1:]:\n",
    "            curr = max(curr + i, i)\n",
    "            total = max(total, curr)\n",
    "        \n",
    "        return total"
   ]
  },
  {
   "cell_type": "code",
   "execution_count": 99,
   "id": "bc604db1",
   "metadata": {},
   "outputs": [
    {
     "name": "stdout",
     "output_type": "stream",
     "text": [
      "6\n",
      "1\n",
      "23\n"
     ]
    }
   ],
   "source": [
    "nums = [-2,1,-3,4,-1,2,1,-5,4]\n",
    "sub_arr = MaxSubArr(nums)\n",
    "print(sub_arr.find_maxi())\n",
    "\n",
    "nums = [1]\n",
    "sub_arr = MaxSubArr(nums)\n",
    "print(sub_arr.find_maxi())\n",
    "\n",
    "nums = [5,4,-1,7,8]\n",
    "sub_arr = MaxSubArr(nums)\n",
    "print(sub_arr.find_maxi())"
   ]
  },
  {
   "cell_type": "markdown",
   "id": "664cb074",
   "metadata": {},
   "source": [
    "*20. counting bits*"
   ]
  },
  {
   "cell_type": "code",
   "execution_count": 100,
   "id": "def85253",
   "metadata": {},
   "outputs": [],
   "source": [
    "class CountBits:\n",
    "    def __init__(self, val: int):\n",
    "        self.val = val\n",
    "    \n",
    "    def count_ones(self) -> List[int]:\n",
    "        bits = [0] * (self.val + 1)\n",
    "        two_iter = 1\n",
    "        for iter in range(1, self.val + 1):\n",
    "            if two_iter * 2 == iter:\n",
    "                two_iter = iter\n",
    "            bits[iter] = 1 + bits[iter - two_iter]\n",
    "        return bits"
   ]
  },
  {
   "cell_type": "code",
   "execution_count": 101,
   "id": "3813c6fc",
   "metadata": {},
   "outputs": [
    {
     "name": "stdout",
     "output_type": "stream",
     "text": [
      "[0, 1, 1]\n",
      "[0, 1, 1, 2, 1, 2]\n"
     ]
    }
   ],
   "source": [
    "num = 2\n",
    "bit = CountBits(num)\n",
    "print(bit.count_ones())\n",
    "\n",
    "num = 5\n",
    "bit = CountBits(num)\n",
    "print(bit.count_ones())"
   ]
  },
  {
   "cell_type": "markdown",
   "id": "8d76586f",
   "metadata": {},
   "source": [
    "*21. range sum query - immutable*"
   ]
  },
  {
   "cell_type": "code",
   "execution_count": 102,
   "id": "95f4a4db",
   "metadata": {},
   "outputs": [],
   "source": [
    "class RangeSumQuery:\n",
    "    def __init__(self, nums: List[int], ini: int, fin: int):\n",
    "        self.nums = nums\n",
    "        self.ini = ini\n",
    "        self.fin = fin\n",
    "        self.cumm = []\n",
    "        self.processing()\n",
    "    \n",
    "    def processing(self):\n",
    "        curr_sum = 0\n",
    "        for i in self.nums:\n",
    "            curr_sum += i\n",
    "            self.cumm.append(curr_sum)\n",
    "\n",
    "    def sum_in_range(self) -> int:\n",
    "        if self.ini == 0:\n",
    "            return self.cumm[self.fin]\n",
    "        return self.cumm[self.fin] - self.cumm[self.ini - 1]"
   ]
  },
  {
   "cell_type": "code",
   "execution_count": 103,
   "id": "8aa0f0c6",
   "metadata": {},
   "outputs": [
    {
     "name": "stdout",
     "output_type": "stream",
     "text": [
      "1\n",
      "-1\n",
      "-3\n"
     ]
    }
   ],
   "source": [
    "nums = [-2,0,3,-5,2,-1]\n",
    "\n",
    "ini = 0\n",
    "fin = 2\n",
    "range_sum = RangeSumQuery(nums, ini, fin)\n",
    "print(range_sum.sum_in_range())\n",
    "\n",
    "ini = 2\n",
    "fin = 5\n",
    "range_sum = RangeSumQuery(nums, ini, fin)\n",
    "print(range_sum.sum_in_range())\n",
    "\n",
    "ini = 0\n",
    "fin = 5\n",
    "range_sum = RangeSumQuery(nums, ini, fin)\n",
    "print(range_sum.sum_in_range())"
   ]
  },
  {
   "cell_type": "markdown",
   "id": "388fd97c",
   "metadata": {},
   "source": [
    "**back tracking**"
   ]
  },
  {
   "cell_type": "markdown",
   "id": "1f625c2f",
   "metadata": {},
   "source": [
    "*22. letter case permutation*"
   ]
  },
  {
   "cell_type": "code",
   "execution_count": 104,
   "id": "9826beef",
   "metadata": {},
   "outputs": [],
   "source": [
    "class LetterCaseP:\n",
    "    def __init__(self, s: str):\n",
    "        self.s = s\n",
    "        self.length = len(s)\n",
    "        self.res = []\n",
    "    \n",
    "    def comb_former(self, curr: str = None, st: int = 0):\n",
    "        if st + 1 == self.length:\n",
    "            self.res.append(curr)\n",
    "            return\n",
    "        \n",
    "        if curr is None:\n",
    "            curr = self.s        \n",
    "        \n",
    "        self.comb_former(curr, st + 1)\n",
    "        if curr[st].isalpha():\n",
    "            change = curr[:st] + curr[st].swapcase() + curr[st+1:]\n",
    "            self.comb_former(change, st + 1)\n",
    "    \n",
    "    def go_form(self) -> List[str]:\n",
    "        self.comb_former()\n",
    "        return self.res"
   ]
  },
  {
   "cell_type": "code",
   "execution_count": 105,
   "id": "cc191c60",
   "metadata": {},
   "outputs": [
    {
     "name": "stdout",
     "output_type": "stream",
     "text": [
      "['a1b2', 'a1B2', 'A1b2', 'A1B2']\n",
      "['3z4', '3Z4']\n"
     ]
    }
   ],
   "source": [
    "s = \"a1b2\"\n",
    "form_perms = LetterCaseP(s)\n",
    "print(form_perms.go_form())\n",
    "\n",
    "s = \"3z4\"\n",
    "form_perms = LetterCaseP(s)\n",
    "print(form_perms.go_form())"
   ]
  },
  {
   "cell_type": "markdown",
   "id": "606d8a37",
   "metadata": {},
   "source": [
    "*23. subsets*"
   ]
  },
  {
   "cell_type": "code",
   "execution_count": 106,
   "id": "07ce209d",
   "metadata": {},
   "outputs": [],
   "source": [
    "class Subsets:\n",
    "    def __init__(self, nums: List[int]):\n",
    "        self.nums = nums\n",
    "        self.length = len(nums)\n",
    "        self.res = []\n",
    "    \n",
    "    def subset_former(self, sub_arr: List[int]= [], idx: int= 0):\n",
    "        self.res.append(sub_arr[:])\n",
    "\n",
    "        for iter in range(idx, self.length):\n",
    "            sub_arr.append(self.nums[iter])\n",
    "            self.subset_former(sub_arr, iter + 1)\n",
    "            sub_arr.pop()\n",
    "    \n",
    "    def go_form(self) -> List[List[int]]:\n",
    "        self.subset_former()\n",
    "        return self.res"
   ]
  },
  {
   "cell_type": "code",
   "execution_count": 107,
   "id": "88fbe32a",
   "metadata": {},
   "outputs": [
    {
     "name": "stdout",
     "output_type": "stream",
     "text": [
      "[[], [1], [1, 2], [1, 2, 3], [1, 3], [2], [2, 3], [3]]\n",
      "[[], [0]]\n"
     ]
    }
   ],
   "source": [
    "nums = [1,2,3]\n",
    "form_subsets = Subsets(nums)\n",
    "print(form_subsets.go_form())\n",
    "\n",
    "nums = [0]\n",
    "form_subsets = Subsets(nums)\n",
    "print(form_subsets.go_form())"
   ]
  },
  {
   "cell_type": "markdown",
   "id": "cf669a91",
   "metadata": {},
   "source": [
    "*24. combinations*"
   ]
  },
  {
   "cell_type": "code",
   "execution_count": 108,
   "id": "5c0d23b5",
   "metadata": {},
   "outputs": [],
   "source": [
    "class Combinations:\n",
    "    def __init__(self, n: int, k: int):\n",
    "        self.upto = n\n",
    "        self.sw = k\n",
    "        self.res = []\n",
    "    \n",
    "    def form_arrs(self, sub_arr: List[int]= [], idx: int= 1):\n",
    "        if len(sub_arr) == self.sw:\n",
    "            self.res.append(sub_arr[:])\n",
    "            return\n",
    "        \n",
    "        for iter in range(idx, self.upto + 1):\n",
    "            sub_arr.append(iter)\n",
    "            self.form_arrs(sub_arr, iter + 1)\n",
    "            sub_arr.pop()\n",
    "\n",
    "    def form_combs(self) -> list[List[int]]:\n",
    "        self.form_arrs()\n",
    "        return self.res"
   ]
  },
  {
   "cell_type": "code",
   "execution_count": 109,
   "id": "c8b327fd",
   "metadata": {},
   "outputs": [
    {
     "name": "stdout",
     "output_type": "stream",
     "text": [
      "[[1, 2], [1, 3], [1, 4], [2, 3], [2, 4], [3, 4]]\n",
      "[[1]]\n"
     ]
    }
   ],
   "source": [
    "form = Combinations(4, 2)\n",
    "print(form.form_combs())\n",
    "\n",
    "form = Combinations(1, 1)\n",
    "print(form.form_combs())"
   ]
  },
  {
   "cell_type": "markdown",
   "id": "df8abb20",
   "metadata": {},
   "source": [
    "*25. permutations*"
   ]
  },
  {
   "cell_type": "code",
   "execution_count": 110,
   "id": "654536cb",
   "metadata": {},
   "outputs": [],
   "source": [
    "class Permutations:\n",
    "    def __init__(self, nums: List[int]):\n",
    "        self.nums = nums\n",
    "        self.length = len(nums)\n",
    "        self.res = []\n",
    "    \n",
    "    def form_arrs(self, usable, sub_arr: List= []):\n",
    "        if len(sub_arr) == self.length:\n",
    "            self.res.append(sub_arr[:])\n",
    "            return\n",
    "        \n",
    "        for i in range(0, self.length):\n",
    "            if usable[i]:\n",
    "                sub_arr.append(self.nums[i])\n",
    "                usable[i] = False\n",
    "                self.form_arrs(usable, sub_arr)\n",
    "                sub_arr.pop()\n",
    "                usable[i] = True\n",
    "\n",
    "    def form_perms(self) -> List[List[int]]:\n",
    "        self.form_arrs([True] * self.length)\n",
    "        return self.res"
   ]
  },
  {
   "cell_type": "code",
   "execution_count": 111,
   "id": "41370e85",
   "metadata": {},
   "outputs": [
    {
     "name": "stdout",
     "output_type": "stream",
     "text": [
      "[[1, 2, 3], [1, 3, 2], [2, 1, 3], [2, 3, 1], [3, 1, 2], [3, 2, 1]]\n",
      "[[0, 1], [1, 0]]\n",
      "[[1]]\n"
     ]
    }
   ],
   "source": [
    "nums = [1,2,3]\n",
    "form = Permutations(nums)\n",
    "print(form.form_perms())\n",
    "\n",
    "nums = [0,1]\n",
    "form = Permutations(nums)\n",
    "print(form.form_perms())\n",
    "\n",
    "nums = [1]\n",
    "form = Permutations(nums)\n",
    "print(form.form_perms())"
   ]
  },
  {
   "cell_type": "markdown",
   "id": "e78eb81c",
   "metadata": {},
   "source": [
    "**linked list** - ahhh"
   ]
  },
  {
   "cell_type": "code",
   "execution_count": 112,
   "id": "d0fe56dc",
   "metadata": {},
   "outputs": [],
   "source": [
    "class ListNode:\n",
    "    def __init__(self, val=0, next=None):\n",
    "        self.val = val\n",
    "        self.next = next"
   ]
  },
  {
   "cell_type": "code",
   "execution_count": 113,
   "id": "7a99d708",
   "metadata": {},
   "outputs": [],
   "source": [
    "class LinkedList:\n",
    "    def __init__(self, arr: List= []):\n",
    "        self.head = self.form_linked(arr)\n",
    "    \n",
    "    @staticmethod\n",
    "    def form_linked(arr):\n",
    "        if not arr:\n",
    "            return None\n",
    "        head = ListNode(arr[0])\n",
    "        curr = head\n",
    "        for val in arr[1:]:\n",
    "            curr.next = ListNode(val)\n",
    "            curr = curr.next\n",
    "        return head"
   ]
  },
  {
   "cell_type": "code",
   "execution_count": 114,
   "id": "b9209253",
   "metadata": {},
   "outputs": [],
   "source": [
    "class AntiLinked:\n",
    "    def __init__(self, linked_list: LinkedList):\n",
    "        self.res = self.unform(linked_list)\n",
    "    \n",
    "    @staticmethod\n",
    "    def unform(linked_list):\n",
    "        res = []\n",
    "        curr = linked_list.head\n",
    "        while curr:\n",
    "            res.append(curr.val)\n",
    "            curr = curr.next\n",
    "        return res"
   ]
  },
  {
   "cell_type": "markdown",
   "id": "15659148",
   "metadata": {},
   "source": [
    "*26. middle of a linkedlist*"
   ]
  },
  {
   "cell_type": "code",
   "execution_count": 115,
   "id": "9bfbb849",
   "metadata": {},
   "outputs": [],
   "source": [
    "class ListMiddle:\n",
    "    def __init__(self, linked_list: LinkedList):\n",
    "        self.head = linked_list.head\n",
    "\n",
    "    def find_middle(self) -> int:\n",
    "        slow = self.head\n",
    "        fast = self.head\n",
    "        while fast and fast.next:\n",
    "            slow = slow.next\n",
    "            fast = fast.next.next\n",
    "        return slow.val"
   ]
  },
  {
   "cell_type": "code",
   "execution_count": 116,
   "id": "9b0ff29a",
   "metadata": {},
   "outputs": [
    {
     "name": "stdout",
     "output_type": "stream",
     "text": [
      "3\n",
      "4\n"
     ]
    }
   ],
   "source": [
    "arr = [1,2,3,4,5]\n",
    "linked_list = LinkedList(arr)\n",
    "middle = ListMiddle(linked_list)\n",
    "print(middle.find_middle())\n",
    "\n",
    "arr = [1,2,3,4,5,6]\n",
    "linked_list = LinkedList(arr)\n",
    "middle = ListMiddle(linked_list)\n",
    "print(middle.find_middle())"
   ]
  },
  {
   "cell_type": "markdown",
   "id": "fc55938e",
   "metadata": {},
   "source": [
    "*27. cyclic linkedlist*"
   ]
  },
  {
   "cell_type": "code",
   "execution_count": 117,
   "id": "785ef44b",
   "metadata": {},
   "outputs": [],
   "source": [
    "class CyclicOrNot:\n",
    "    def __init__(self, linked_list: LinkedList):\n",
    "        self.head = linked_list.head\n",
    "    \n",
    "    def find_out(self) -> bool:\n",
    "        slow = self.head\n",
    "        fast = self.head\n",
    "        while fast and fast.next:\n",
    "            slow = slow.next\n",
    "            fast = fast.next.next\n",
    "            if slow == fast:\n",
    "                return True\n",
    "        return False"
   ]
  },
  {
   "cell_type": "code",
   "execution_count": 118,
   "id": "ed25293d",
   "metadata": {},
   "outputs": [
    {
     "name": "stdout",
     "output_type": "stream",
     "text": [
      "False\n"
     ]
    }
   ],
   "source": [
    "arr = [1,2,3,4,5]\n",
    "linked_list = LinkedList(arr)\n",
    "cycle_check = CyclicOrNot(linked_list)\n",
    "print(cycle_check.find_out())"
   ]
  },
  {
   "cell_type": "markdown",
   "id": "bc840668",
   "metadata": {},
   "source": [
    "*28. reversed linkedlist*"
   ]
  },
  {
   "cell_type": "code",
   "execution_count": 119,
   "id": "432029b4",
   "metadata": {},
   "outputs": [],
   "source": [
    "class Rev:\n",
    "    def __init__(self, linked_list: LinkedList):\n",
    "        self.head = linked_list.head\n",
    "    \n",
    "    def rev_the_list(self) -> LinkedList:\n",
    "        prev_addr = None\n",
    "        curr = self.head\n",
    "        while curr:\n",
    "            nxt_addr = curr.next\n",
    "            curr.next = prev_addr\n",
    "            prev_addr = curr\n",
    "            curr = nxt_addr\n",
    "        \n",
    "        reversed_linked_list = LinkedList()\n",
    "        reversed_linked_list.head = prev_addr\n",
    "        return reversed_linked_list"
   ]
  },
  {
   "cell_type": "code",
   "execution_count": 120,
   "id": "3ad98312",
   "metadata": {},
   "outputs": [
    {
     "name": "stdout",
     "output_type": "stream",
     "text": [
      "[5, 4, 3, 2, 1]\n"
     ]
    }
   ],
   "source": [
    "arr = [1,2,3,4,5]\n",
    "linked_list = LinkedList(arr)\n",
    "rev_list = Rev(linked_list).rev_the_list()\n",
    "reversed_list = AntiLinked(rev_list).res\n",
    "print(reversed_list)"
   ]
  },
  {
   "cell_type": "markdown",
   "id": "fa890919",
   "metadata": {},
   "source": [
    "*29. removed element*"
   ]
  },
  {
   "cell_type": "code",
   "execution_count": 150,
   "id": "97c39121",
   "metadata": {},
   "outputs": [],
   "source": [
    "class RemoveElement:\n",
    "    def __init__(self, linked_list: LinkedList, val: int):\n",
    "        self.linked_list = linked_list\n",
    "        self.val = val\n",
    "    \n",
    "    def ele_removal(self) -> LinkedList:\n",
    "        first = ListNode()\n",
    "        first.next = self.linked_list.head\n",
    "        iter_node = first\n",
    "\n",
    "        while iter_node.next:\n",
    "            if iter_node.next.val == self.val:\n",
    "                iter_node.next = iter_node.next.next\n",
    "            else:\n",
    "                iter_node = iter_node.next\n",
    "        \n",
    "        fresh_list = LinkedList()\n",
    "        fresh_list.head = first.next\n",
    "        return fresh_list"
   ]
  },
  {
   "cell_type": "code",
   "execution_count": 151,
   "id": "a796764d",
   "metadata": {},
   "outputs": [
    {
     "name": "stdout",
     "output_type": "stream",
     "text": [
      "[1, 2, 3, 4, 5]\n",
      "[]\n",
      "[]\n"
     ]
    }
   ],
   "source": [
    "arr = [1,2,3,4,5,6]\n",
    "linked_list = LinkedList(arr)\n",
    "val = 6\n",
    "removed = RemoveElement(linked_list, val).ele_removal()\n",
    "val = AntiLinked(removed).res\n",
    "print(val)\n",
    "\n",
    "arr = []\n",
    "linked_list = LinkedList(arr)\n",
    "val = 1\n",
    "removed = RemoveElement(linked_list, val).ele_removal()\n",
    "val = AntiLinked(removed).res\n",
    "print(val)\n",
    "\n",
    "arr = [7,7,7,7]\n",
    "linked_list = LinkedList(arr)\n",
    "val = 7\n",
    "removed = RemoveElement(linked_list, val).ele_removal()\n",
    "val = AntiLinked(removed).res\n",
    "print(val)"
   ]
  },
  {
   "cell_type": "markdown",
   "id": "43903ce4",
   "metadata": {},
   "source": [
    "*30. reversed list 2*"
   ]
  },
  {
   "cell_type": "code",
   "execution_count": 123,
   "id": "27559773",
   "metadata": {},
   "outputs": [],
   "source": [
    "class Rev2:\n",
    "    def __init__(self, linked_list: LinkedList, left: int, right: int):\n",
    "        self.head = linked_list.head\n",
    "        self.left = left\n",
    "        self.right = right\n",
    "    \n",
    "    def rev_the_list(self) -> LinkedList:\n",
    "        ele = ListNode()\n",
    "        ele.next = self.head\n",
    "        iter_node = ele\n",
    "        \n",
    "        for _ in range(0, self.left - 1):\n",
    "            iter_node = iter_node.next\n",
    "        \n",
    "        curr = iter_node.next # now - curr has left\n",
    "        left_prev_addr = None\n",
    "        for _ in range(0, self.right - self.left + 1):\n",
    "            n = curr.next\n",
    "            curr.next = left_prev_addr\n",
    "            left_prev_addr = curr\n",
    "            curr = n\n",
    "        \n",
    "        iter_node.next.next = curr\n",
    "        iter_node.next = left_prev_addr\n",
    "        \n",
    "        reversed_linked_list = LinkedList()\n",
    "        reversed_linked_list.head = ele.next\n",
    "        return reversed_linked_list"
   ]
  },
  {
   "cell_type": "code",
   "execution_count": 124,
   "id": "56e05fd7",
   "metadata": {},
   "outputs": [
    {
     "name": "stdout",
     "output_type": "stream",
     "text": [
      "[1, 4, 3, 2, 5]\n",
      "[5]\n"
     ]
    }
   ],
   "source": [
    "arr = [1,2,3,4,5]\n",
    "linked_list = LinkedList(arr)\n",
    "left = 2\n",
    "right = 4\n",
    "rev_list = Rev2(linked_list, left, right).rev_the_list()\n",
    "reversed_list = AntiLinked(rev_list).res\n",
    "print(reversed_list)\n",
    "\n",
    "arr = [5]\n",
    "linked_list = LinkedList(arr)\n",
    "left = 1\n",
    "right = 1\n",
    "rev_list = Rev2(linked_list, left, right).rev_the_list()\n",
    "reversed_list = AntiLinked(rev_list).res\n",
    "print(reversed_list)"
   ]
  },
  {
   "cell_type": "markdown",
   "id": "96e37af0",
   "metadata": {},
   "source": [
    "*31. palindrome linkedlist*"
   ]
  },
  {
   "cell_type": "code",
   "execution_count": 152,
   "id": "d3aab9ba",
   "metadata": {},
   "outputs": [],
   "source": [
    "class Palindrome:\n",
    "    def __init__(self, linked_list: LinkedList):\n",
    "        self.linked_list = linked_list\n",
    "    \n",
    "    def check_palindrome(self) -> bool:\n",
    "        iter_node = ListNode()\n",
    "        iter_node = self.linked_list.head\n",
    "        \n",
    "        if not iter_node or not iter_node.next:\n",
    "            return True\n",
    "\n",
    "        ele = iter_node\n",
    "        ele2 = iter_node\n",
    "        while ele2.next and ele2.next.next:\n",
    "            ele = ele.next\n",
    "            ele2 = ele2.next.next\n",
    "\n",
    "        prev = None\n",
    "        rn = ele.next\n",
    "        while rn:\n",
    "            n = rn.next\n",
    "            rn.next = prev\n",
    "            prev = rn\n",
    "            rn = n\n",
    "        \n",
    "        first = iter_node\n",
    "        second = prev\n",
    "        while second:\n",
    "            if first.val != second.val:\n",
    "                return False\n",
    "            first = first.next\n",
    "            second = second.next\n",
    "        return True"
   ]
  },
  {
   "cell_type": "code",
   "execution_count": 126,
   "id": "bf4aafd8",
   "metadata": {},
   "outputs": [
    {
     "name": "stdout",
     "output_type": "stream",
     "text": [
      "True\n",
      "False\n"
     ]
    }
   ],
   "source": [
    "arr = [1,2,2,1]\n",
    "linked_list = LinkedList(arr)\n",
    "palindromeer = Palindrome(linked_list)\n",
    "print(palindromeer.check_palindrome())\n",
    "\n",
    "arr = [1,2]\n",
    "linked_list = LinkedList(arr)\n",
    "palindromeer = Palindrome(linked_list)\n",
    "print(palindromeer.check_palindrome())"
   ]
  },
  {
   "cell_type": "markdown",
   "id": "e77350cf",
   "metadata": {},
   "source": [
    "*32. merge a god damn sorted list*"
   ]
  },
  {
   "cell_type": "code",
   "execution_count": null,
   "id": "c29ce131",
   "metadata": {},
   "outputs": [],
   "source": [
    "class MergeTheSorted:\n",
    "    def __init__(self, l1: LinkedList, l2: LinkedList):\n",
    "        self.l1 = l1\n",
    "        self.l2 = l2\n",
    "    \n",
    "    def merge_them(self) -> LinkedList:\n",
    "        curr = dummy = ListNode()\n",
    "        el1 = self.l1.head\n",
    "        el2 = self.l2.head\n",
    "        \n",
    "        while el1 and el2:\n",
    "            if el1.val < el2.val:\n",
    "                curr.next = el1\n",
    "                el1 = el1.next\n",
    "            else:\n",
    "                curr.next = el2\n",
    "                el2 = el2.next\n",
    "            curr = curr.next\n",
    "        \n",
    "        curr.next = el1 if el1 else el2\n",
    "        \n",
    "        merged = LinkedList()\n",
    "        merged.head = dummy.next\n",
    "        return merged"
   ]
  },
  {
   "cell_type": "code",
   "execution_count": 128,
   "id": "02ebf3dc",
   "metadata": {},
   "outputs": [
    {
     "name": "stdout",
     "output_type": "stream",
     "text": [
      "[0, 1, 1, 2, 2, 3, 5, 13]\n"
     ]
    }
   ],
   "source": [
    "arr1 = [1,2,2,3]\n",
    "arr2 = [0,1,5,13]\n",
    "linked_list1 = LinkedList(arr1)\n",
    "linked_list2 = LinkedList(arr2)\n",
    "merger = MergeTheSorted(linked_list1, linked_list2).merge_them()\n",
    "final_list = AntiLinked(merger).res\n",
    "print(final_list)"
   ]
  },
  {
   "cell_type": "markdown",
   "id": "b62b94df",
   "metadata": {},
   "source": [
    "**stacks** - damn"
   ]
  },
  {
   "cell_type": "markdown",
   "id": "5ec45011",
   "metadata": {},
   "source": [
    "*33. min of a stack*"
   ]
  },
  {
   "cell_type": "code",
   "execution_count": 132,
   "id": "9f4c0b34",
   "metadata": {},
   "outputs": [],
   "source": [
    "class DoStack:\n",
    "    def __init__(self):\n",
    "        self.stack = []\n",
    "        self.minVal = []\n",
    "    \n",
    "    def push(self, val) -> None:\n",
    "        self.stack.append(val)\n",
    "        if len(self.minVal) == 0 or val <= self.minVal[-1]:\n",
    "            self.minVal.append(val)\n",
    "    \n",
    "    def pop(self) -> None:\n",
    "        val = self.stack.pop()\n",
    "        if len(self.minVal) > 0 and val == self.minVal[-1]:\n",
    "            self.minVal.pop()\n",
    "    \n",
    "    def top(self) -> int:\n",
    "        if len(self.stack) > 0:\n",
    "            return self.stack[-1]\n",
    "        return None\n",
    "    \n",
    "    def getMin(self) -> int:\n",
    "        if len(self.minVal) > 0:\n",
    "            return self.minVal[-1]\n",
    "        return None"
   ]
  },
  {
   "cell_type": "code",
   "execution_count": 133,
   "id": "649ae7f2",
   "metadata": {},
   "outputs": [
    {
     "name": "stdout",
     "output_type": "stream",
     "text": [
      "None\n",
      "None\n",
      "None\n",
      "-3\n",
      "None\n",
      "0\n",
      "-2\n"
     ]
    }
   ],
   "source": [
    "stack_worker = DoStack()\n",
    "print(stack_worker.push(-2))\n",
    "print(stack_worker.push(0))\n",
    "print(stack_worker.push(-3))\n",
    "print(stack_worker.getMin())\n",
    "print(stack_worker.pop())\n",
    "print(stack_worker.top())\n",
    "print(stack_worker.getMin())"
   ]
  },
  {
   "cell_type": "markdown",
   "id": "63a2b09b",
   "metadata": {},
   "source": [
    "*34. valid parantheses*"
   ]
  },
  {
   "cell_type": "code",
   "execution_count": 153,
   "id": "7b9bbeb1",
   "metadata": {},
   "outputs": [],
   "source": [
    "class PValidity:\n",
    "    def __init__(self, s: str):\n",
    "        self.s = s\n",
    "    \n",
    "    def traversal(self) -> bool:\n",
    "        stack = []\n",
    "        pairs = {'}':'{', ']':'[', ')':'('}\n",
    "        for ele in self.s:\n",
    "            if stack and (ele in pairs and stack[-1] == pairs[ele]):\n",
    "                stack.pop()\n",
    "            else:\n",
    "                stack.append(ele)\n",
    "        return not stack"
   ]
  },
  {
   "cell_type": "code",
   "execution_count": 146,
   "id": "4759337c",
   "metadata": {},
   "outputs": [
    {
     "name": "stdout",
     "output_type": "stream",
     "text": [
      "True\n",
      "True\n",
      "False\n"
     ]
    }
   ],
   "source": [
    "s = \"()\"\n",
    "checker = PValidity(s)\n",
    "print(checker.traversal())\n",
    "\n",
    "s = \"()[]{}\"\n",
    "checker = PValidity(s)\n",
    "print(checker.traversal())\n",
    "\n",
    "s = \"(]\"\n",
    "checker = PValidity(s)\n",
    "print(checker.traversal())"
   ]
  },
  {
   "cell_type": "markdown",
   "id": "0de080d3",
   "metadata": {},
   "source": [
    "*35. polish string notations*"
   ]
  },
  {
   "cell_type": "code",
   "execution_count": null,
   "id": "1ef7d758",
   "metadata": {},
   "outputs": [],
   "source": [
    "class RevPolishNotations:\n",
    "    def __init__(self, s: List[str]):\n",
    "        self.s = s\n",
    "        self.stack = []\n",
    "    \n",
    "    def evaluation(self):\n",
    "        operators = \"+-*/\"\n",
    "        for i in self.s:\n",
    "            if i not in operators:\n",
    "                self.stack.append(int(i))\n",
    "            else:\n",
    "                fir = self.stack.pop()\n",
    "                sec = self.stack.pop()\n",
    "\n",
    "                if i == \"+\":\n",
    "                    self.stack.append(fir + sec)\n",
    "                elif i == \"-\":\n",
    "                    self.stack.append(fir - sec)\n",
    "                elif i == \"*\":\n",
    "                    self.stack.append(fir * sec)\n",
    "                else:\n",
    "                    self.stack.append(int(float(fir)) / sec)\n",
    "        return self.stack.pop()"
   ]
  },
  {
   "cell_type": "code",
   "execution_count": 156,
   "id": "21300f18",
   "metadata": {},
   "outputs": [
    {
     "name": "stdout",
     "output_type": "stream",
     "text": [
      "9\n",
      "4.384615384615385\n",
      "-609.0\n"
     ]
    }
   ],
   "source": [
    "s = [\"2\",\"1\",\"+\",\"3\",\"*\"]\n",
    "evaluator = RevPolishNotations(s)\n",
    "print(evaluator.evaluation())\n",
    "\n",
    "s = [\"4\",\"13\",\"5\",\"/\",\"+\"]\n",
    "evaluator = RevPolishNotations(s)\n",
    "print(evaluator.evaluation())\n",
    "\n",
    "s = [\"10\",\"6\",\"9\",\"3\",\"+\",\"-11\",\"*\",\"/\",\"*\",\"17\",\"+\",\"3\",\"*\"]\n",
    "evaluator = RevPolishNotations(s)\n",
    "print(evaluator.evaluation())"
   ]
  },
  {
   "cell_type": "markdown",
   "id": "ac08f65d",
   "metadata": {},
   "source": [
    "at 3:20:58"
   ]
  }
 ],
 "metadata": {
  "kernelspec": {
   "display_name": "Python 3",
   "language": "python",
   "name": "python3"
  },
  "language_info": {
   "codemirror_mode": {
    "name": "ipython",
    "version": 3
   },
   "file_extension": ".py",
   "mimetype": "text/x-python",
   "name": "python",
   "nbconvert_exporter": "python",
   "pygments_lexer": "ipython3",
   "version": "3.11.9"
  }
 },
 "nbformat": 4,
 "nbformat_minor": 5
}
