{
 "cells": [
  {
   "cell_type": "code",
   "execution_count": 1,
   "id": "5fbe7859",
   "metadata": {},
   "outputs": [],
   "source": [
    "import heapq\n",
    "\n",
    "from math import sqrt\n",
    "from typing import List\n",
    "from collections import deque, Counter, defaultdict\n",
    "\n",
    "import numpy as np"
   ]
  },
  {
   "cell_type": "markdown",
   "id": "3678ee81",
   "metadata": {},
   "source": [
    "day 1: hit 61"
   ]
  },
  {
   "cell_type": "code",
   "execution_count": 2,
   "id": "34534341",
   "metadata": {},
   "outputs": [],
   "source": [
    "# 207. Course Schedule\n",
    "class Solution:\n",
    "    def canFinish(self, numCourses: int, prerequisites: List[List[int]]) -> bool:\n",
    "        graph = defaultdict(list)\n",
    "        for c,p in prerequisites: graph[c].append(p)\n",
    "        completed = set()\n",
    "\n",
    "        for idx_c in range(0, numCourses):\n",
    "            if idx_c in completed: continue\n",
    "            stack = [(idx_c, False)]\n",
    "            reqs = set()\n",
    "\n",
    "            while stack:\n",
    "                curr_c, curr_c_done = stack.pop()\n",
    "                if curr_c_done:\n",
    "                    reqs.remove(curr_c)\n",
    "                    completed.add(curr_c)\n",
    "                if curr_c in completed: continue\n",
    "                if curr_c in reqs: return False\n",
    "                reqs.add(curr_c)\n",
    "                stack.append((curr_c, True))\n",
    "                for r in graph[curr_c]:\n",
    "                    if r not in completed: stack.append((r, False))\n",
    "        return True"
   ]
  },
  {
   "cell_type": "code",
   "execution_count": 3,
   "id": "d550b25b",
   "metadata": {},
   "outputs": [],
   "source": [
    "# 787. Cheapest Flights Within K Stops\n",
    "class Solution:\n",
    "    def findCheapestPrice(self, n: int, flights: List[List[int]], src: int, dst: int, k: int) -> int:\n",
    "        graph = defaultdict(list)\n",
    "        for f,t,p in flights: graph[f].append((t,p))\n",
    "\n",
    "        best = dict()\n",
    "        heap = [(0, src, 0)]\n",
    "        while heap:\n",
    "            cp, loc, steps = heapq.heappop(heap)\n",
    "            if loc == dst: return cp\n",
    "\n",
    "            if steps <= k:\n",
    "                for nxt, p_here in graph[loc]:\n",
    "                    new_steps = steps + 1\n",
    "                    new_p = cp + p_here\n",
    "                    if ((nxt, new_steps) not in best) or (new_p < best[(nxt, new_steps)]):\n",
    "                        best[(nxt, new_steps)] = new_p\n",
    "                        heapq.heappush(heap, (new_p, nxt, new_steps))\n",
    "\n",
    "        return -1"
   ]
  },
  {
   "cell_type": "code",
   "execution_count": 4,
   "id": "de3614b5",
   "metadata": {},
   "outputs": [],
   "source": [
    "# 133. Clone Graph\n",
    "# Definition for a Node.\n",
    "class Node:\n",
    "    def __init__(self, val = 0, neighbors = None):\n",
    "        self.val = val\n",
    "        self.neighbors = neighbors if neighbors is not None else []\n",
    "\n",
    "from typing import Optional\n",
    "class Solution:\n",
    "    def cloneGraph(self, node: Optional['Node']) -> Optional['Node']:\n",
    "        if node is None: return None\n",
    "        queue = deque([node])\n",
    "        new_v = {node.val: Node(node.val)} # because values are unique\n",
    "        \n",
    "        while queue:\n",
    "            curr = queue.popleft()\n",
    "            \n",
    "            for nei in curr.neighbors:\n",
    "                if nei.val not in new_v:\n",
    "                    queue.append(nei)\n",
    "                    new_v[nei.val] = Node(nei.val) # Node(...) to make things into a node\n",
    "                new_v[curr.val].neighbors.append(new_v[nei.val])\n",
    "        \n",
    "        return new_v[node.val]"
   ]
  },
  {
   "cell_type": "code",
   "execution_count": null,
   "id": "19e313b1",
   "metadata": {},
   "outputs": [],
   "source": [
    "# 621. Task Scheduler\n",
    "class Solution:\n",
    "    def leastInterval(self, tasks: List[str], n: int) -> int:\n",
    "        freqs = Counter(tasks)\n",
    "        heap = []\n",
    "        for f in freqs.values(): heap.append(-f)\n",
    "        heapq.heapify(heap)\n",
    "        t = 0\n",
    "        queue = deque()\n",
    "\n",
    "        while queue or heap:\n",
    "            t += 1\n",
    "            if heap:\n",
    "                still = heapq.heappop(heap) + 1\n",
    "                if still != 0: queue.append((still, t + n))\n",
    "            \n",
    "            if queue and queue[0][1] == t:\n",
    "                heapq.heappush(heap, queue.popleft()[0])\n",
    "        \n",
    "        return t"
   ]
  },
  {
   "cell_type": "markdown",
   "id": "ff2a5a36",
   "metadata": {},
   "source": [
    "day 2: hit 56"
   ]
  },
  {
   "cell_type": "markdown",
   "id": "7091eeb9",
   "metadata": {},
   "source": [
    "day 3: hit 46"
   ]
  },
  {
   "cell_type": "markdown",
   "id": "93aa9c90",
   "metadata": {},
   "source": [
    "day 4: hit 31"
   ]
  },
  {
   "cell_type": "markdown",
   "id": "8ed7cde1",
   "metadata": {},
   "source": [
    "day 5: hit 1"
   ]
  }
 ],
 "metadata": {
  "kernelspec": {
   "display_name": "Python 3",
   "language": "python",
   "name": "python3"
  },
  "language_info": {
   "codemirror_mode": {
    "name": "ipython",
    "version": 3
   },
   "file_extension": ".py",
   "mimetype": "text/x-python",
   "name": "python",
   "nbconvert_exporter": "python",
   "pygments_lexer": "ipython3",
   "version": "3.11.9"
  }
 },
 "nbformat": 4,
 "nbformat_minor": 5
}
